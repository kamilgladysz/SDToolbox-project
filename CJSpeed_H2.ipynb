{
 "cells": [
  {
   "cell_type": "code",
   "execution_count": 1,
   "metadata": {},
   "outputs": [
    {
     "name": "stdout",
     "output_type": "stream",
     "text": [
      " \n",
      "For H2:2 O2:1 N2:3.76 with P1 = 1.00 atm & T1 = 1200.00 K using gri30.cti\n",
      "CJ Speed is 1857.93 m/s\n",
      " \n",
      " \n",
      "For H2:2 O2:1 N2:3.76 with P1 = 2.00 atm & T1 = 1200.00 K using gri30.cti\n",
      "CJ Speed is 1882.67 m/s\n",
      " \n",
      " \n",
      "For H2:2 O2:1 N2:3.76 with P1 = 3.00 atm & T1 = 1200.00 K using gri30.cti\n",
      "CJ Speed is 1896.80 m/s\n",
      " \n"
     ]
    }
   ],
   "source": [
    "import cantera as ct\n",
    "import SDToolbox as sd\n",
    "import matplotlib.pyplot as plt\n",
    "import numpy as np\n",
    "\n",
    "mech = 'gri30.cti';\n",
    "from SDToolbox import *\n",
    "\n",
    "P1 = ct.one_atm; P1atm = P1/ct.one_atm;\n",
    "T1 = 1200;\n",
    "\n",
    "q = 'H2:2 O2:1 N2:3.76'\n",
    "mech = 'gri30.cti'\n",
    " \n",
    "[cj_speed1,_] = CJspeed(P1, T1, q, mech, 1);   \n",
    "print ' '\n",
    "print 'For ' + q + ' with P1 = %.2f atm & T1 = %.2f K using ' % (P1atm,T1) + mech \n",
    "print 'CJ Speed is %.2f m/s' % cj_speed1\n",
    "print ' '\n",
    "\n",
    "P2 = 2*ct.one_atm; P2atm = P2/ct.one_atm;\n",
    "\n",
    "[cj_speed2,_] = CJspeed(P2, T1, q, mech, 0);   \n",
    "print ' '\n",
    "print 'For ' + q + ' with P1 = %.2f atm & T1 = %.2f K using ' % (P2atm,T1) + mech \n",
    "print 'CJ Speed is %.2f m/s' % cj_speed2\n",
    "print ' '\n",
    "\n",
    "P3 = 3*ct.one_atm; P3atm = P3/ct.one_atm;\n",
    "\n",
    "[cj_speed3,_] = CJspeed(P3, T1, q, mech, 0);   \n",
    "print ' '\n",
    "print 'For ' + q + ' with P1 = %.2f atm & T1 = %.2f K using ' % (P3atm,T1) + mech \n",
    "print 'CJ Speed is %.2f m/s' % cj_speed3\n",
    "print ' '"
   ]
  },
  {
   "cell_type": "code",
   "execution_count": null,
   "metadata": {},
   "outputs": [],
   "source": [
    "plt.plot([P1, P2, P3],[cj_speed1, cj_speed2, cj_speed3])\n",
    "plt.xlabel('Pressure [Pa]')\n",
    "plt.ylabel('CJ Speed [m/s]')\n",
    "plt.title('CJ Speed for H2 at 1200K and variable pressure')\n",
    "plt.show()"
   ]
  }
 ],
 "metadata": {
  "kernelspec": {
   "display_name": "Python 2",
   "language": "python",
   "name": "python2"
  },
  "language_info": {
   "codemirror_mode": {
    "name": "ipython",
    "version": 2
   },
   "file_extension": ".py",
   "mimetype": "text/x-python",
   "name": "python",
   "nbconvert_exporter": "python",
   "pygments_lexer": "ipython2",
   "version": "2.7.15"
  }
 },
 "nbformat": 4,
 "nbformat_minor": 2
}
